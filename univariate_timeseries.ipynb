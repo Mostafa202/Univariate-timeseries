{
  "nbformat": 4,
  "nbformat_minor": 0,
  "metadata": {
    "colab": {
      "name": "univaraite timeseries.ipynb",
      "provenance": [],
      "collapsed_sections": []
    },
    "kernelspec": {
      "name": "python3",
      "display_name": "Python 3"
    },
    "language_info": {
      "name": "python"
    },
    "accelerator": "GPU"
  },
  "cells": [
    {
      "cell_type": "code",
      "execution_count": 65,
      "metadata": {
        "id": "Zn4LQwIqjxkc"
      },
      "outputs": [],
      "source": [
        "# A tutorial for this file is available at www.relataly.com\n",
        "\n",
        "import math # Mathematical functions \n",
        "import numpy as np # Fundamental package for scientific computing with Python\n",
        "import pandas as pd # For analysing and manipulating data\n",
        "from datetime import date, timedelta # Date Functions\n",
        "from pandas.plotting import register_matplotlib_converters # Adds plotting functions for calender dates\n",
        "import matplotlib.pyplot as plt # For visualization\n",
        "import matplotlib.dates as mdates # Formatting dates\n",
        "from sklearn.metrics import mean_absolute_error, mean_squared_error # For measuring model performance / errors\n",
        "from sklearn.preprocessing import MinMaxScaler #to normalize the price data \n",
        "from keras.models import Sequential # Deep learning library, used for neural networks\n",
        "from keras.layers import LSTM, Dense # Deep learning classes for recurrent and regular densely-connected layers\n"
      ]
    },
    {
      "cell_type": "code",
      "source": [
        "pip install yfinance"
      ],
      "metadata": {
        "colab": {
          "base_uri": "https://localhost:8080/"
        },
        "id": "mU8RtBMZkF5K",
        "outputId": "0fd72ee4-1261-4a26-ca40-826b6008510e"
      },
      "execution_count": 66,
      "outputs": [
        {
          "output_type": "stream",
          "name": "stdout",
          "text": [
            "Requirement already satisfied: yfinance in /usr/local/lib/python3.7/dist-packages (0.1.70)\n",
            "Requirement already satisfied: requests>=2.26 in /usr/local/lib/python3.7/dist-packages (from yfinance) (2.27.1)\n",
            "Requirement already satisfied: multitasking>=0.0.7 in /usr/local/lib/python3.7/dist-packages (from yfinance) (0.0.10)\n",
            "Requirement already satisfied: lxml>=4.5.1 in /usr/local/lib/python3.7/dist-packages (from yfinance) (4.8.0)\n",
            "Requirement already satisfied: numpy>=1.15 in /usr/local/lib/python3.7/dist-packages (from yfinance) (1.21.5)\n",
            "Requirement already satisfied: pandas>=0.24.0 in /usr/local/lib/python3.7/dist-packages (from yfinance) (1.3.5)\n",
            "Requirement already satisfied: pytz>=2017.3 in /usr/local/lib/python3.7/dist-packages (from pandas>=0.24.0->yfinance) (2018.9)\n",
            "Requirement already satisfied: python-dateutil>=2.7.3 in /usr/local/lib/python3.7/dist-packages (from pandas>=0.24.0->yfinance) (2.8.2)\n",
            "Requirement already satisfied: six>=1.5 in /usr/local/lib/python3.7/dist-packages (from python-dateutil>=2.7.3->pandas>=0.24.0->yfinance) (1.15.0)\n",
            "Requirement already satisfied: idna<4,>=2.5 in /usr/local/lib/python3.7/dist-packages (from requests>=2.26->yfinance) (2.10)\n",
            "Requirement already satisfied: urllib3<1.27,>=1.21.1 in /usr/local/lib/python3.7/dist-packages (from requests>=2.26->yfinance) (1.24.3)\n",
            "Requirement already satisfied: charset-normalizer~=2.0.0 in /usr/local/lib/python3.7/dist-packages (from requests>=2.26->yfinance) (2.0.12)\n",
            "Requirement already satisfied: certifi>=2017.4.17 in /usr/local/lib/python3.7/dist-packages (from requests>=2.26->yfinance) (2021.10.8)\n"
          ]
        }
      ]
    },
    {
      "cell_type": "code",
      "source": [
        "#load dataset\n",
        "today = date.today()\n",
        "date_today = today.strftime(\"%Y-%m-%d\")\n",
        "date_start = '2010-01-01'\n",
        "\n",
        "# Getting S&P500 quotes\n",
        "stockname = 'S&P500'\n",
        "symbol = '^GSPC'\n",
        "\n",
        "# You can either use webreader or yfinance to load the data from yahoo finance\n",
        "# import pandas_datareader as webreader\n",
        "# df = webreader.DataReader(symbol, start=date_start, end=date_today, data_source=\"yahoo\")\n",
        "\n",
        "import yfinance as yf #Alternative package if webreader does not work: pip install yfinance\n",
        "df = yf.download(symbol, start=date_start, end=date_today)\n",
        "\n",
        "# Taking a look at the shape of the dataset\n",
        "print(df.shape)\n",
        "df.head(5)"
      ],
      "metadata": {
        "colab": {
          "base_uri": "https://localhost:8080/",
          "height": 272
        },
        "id": "ZhAIe9bJj036",
        "outputId": "82fed306-7dfc-45c1-9cb1-77fe2afc1856"
      },
      "execution_count": 67,
      "outputs": [
        {
          "output_type": "stream",
          "name": "stdout",
          "text": [
            "\r[*********************100%***********************]  1 of 1 completed\n",
            "(3085, 6)\n"
          ]
        },
        {
          "output_type": "execute_result",
          "data": {
            "text/plain": [
              "                   Open         High          Low        Close    Adj Close  \\\n",
              "Date                                                                          \n",
              "2010-01-04  1116.560059  1133.869995  1116.560059  1132.989990  1132.989990   \n",
              "2010-01-05  1132.660034  1136.630005  1129.660034  1136.520020  1136.520020   \n",
              "2010-01-06  1135.709961  1139.189941  1133.949951  1137.140015  1137.140015   \n",
              "2010-01-07  1136.270020  1142.459961  1131.319946  1141.689941  1141.689941   \n",
              "2010-01-08  1140.520020  1145.390015  1136.219971  1144.979980  1144.979980   \n",
              "\n",
              "                Volume  \n",
              "Date                    \n",
              "2010-01-04  3991400000  \n",
              "2010-01-05  2491020000  \n",
              "2010-01-06  4972660000  \n",
              "2010-01-07  5270680000  \n",
              "2010-01-08  4389590000  "
            ],
            "text/html": [
              "\n",
              "  <div id=\"df-d3a2c070-3445-4e67-b682-83d7b7bc833d\">\n",
              "    <div class=\"colab-df-container\">\n",
              "      <div>\n",
              "<style scoped>\n",
              "    .dataframe tbody tr th:only-of-type {\n",
              "        vertical-align: middle;\n",
              "    }\n",
              "\n",
              "    .dataframe tbody tr th {\n",
              "        vertical-align: top;\n",
              "    }\n",
              "\n",
              "    .dataframe thead th {\n",
              "        text-align: right;\n",
              "    }\n",
              "</style>\n",
              "<table border=\"1\" class=\"dataframe\">\n",
              "  <thead>\n",
              "    <tr style=\"text-align: right;\">\n",
              "      <th></th>\n",
              "      <th>Open</th>\n",
              "      <th>High</th>\n",
              "      <th>Low</th>\n",
              "      <th>Close</th>\n",
              "      <th>Adj Close</th>\n",
              "      <th>Volume</th>\n",
              "    </tr>\n",
              "    <tr>\n",
              "      <th>Date</th>\n",
              "      <th></th>\n",
              "      <th></th>\n",
              "      <th></th>\n",
              "      <th></th>\n",
              "      <th></th>\n",
              "      <th></th>\n",
              "    </tr>\n",
              "  </thead>\n",
              "  <tbody>\n",
              "    <tr>\n",
              "      <th>2010-01-04</th>\n",
              "      <td>1116.560059</td>\n",
              "      <td>1133.869995</td>\n",
              "      <td>1116.560059</td>\n",
              "      <td>1132.989990</td>\n",
              "      <td>1132.989990</td>\n",
              "      <td>3991400000</td>\n",
              "    </tr>\n",
              "    <tr>\n",
              "      <th>2010-01-05</th>\n",
              "      <td>1132.660034</td>\n",
              "      <td>1136.630005</td>\n",
              "      <td>1129.660034</td>\n",
              "      <td>1136.520020</td>\n",
              "      <td>1136.520020</td>\n",
              "      <td>2491020000</td>\n",
              "    </tr>\n",
              "    <tr>\n",
              "      <th>2010-01-06</th>\n",
              "      <td>1135.709961</td>\n",
              "      <td>1139.189941</td>\n",
              "      <td>1133.949951</td>\n",
              "      <td>1137.140015</td>\n",
              "      <td>1137.140015</td>\n",
              "      <td>4972660000</td>\n",
              "    </tr>\n",
              "    <tr>\n",
              "      <th>2010-01-07</th>\n",
              "      <td>1136.270020</td>\n",
              "      <td>1142.459961</td>\n",
              "      <td>1131.319946</td>\n",
              "      <td>1141.689941</td>\n",
              "      <td>1141.689941</td>\n",
              "      <td>5270680000</td>\n",
              "    </tr>\n",
              "    <tr>\n",
              "      <th>2010-01-08</th>\n",
              "      <td>1140.520020</td>\n",
              "      <td>1145.390015</td>\n",
              "      <td>1136.219971</td>\n",
              "      <td>1144.979980</td>\n",
              "      <td>1144.979980</td>\n",
              "      <td>4389590000</td>\n",
              "    </tr>\n",
              "  </tbody>\n",
              "</table>\n",
              "</div>\n",
              "      <button class=\"colab-df-convert\" onclick=\"convertToInteractive('df-d3a2c070-3445-4e67-b682-83d7b7bc833d')\"\n",
              "              title=\"Convert this dataframe to an interactive table.\"\n",
              "              style=\"display:none;\">\n",
              "        \n",
              "  <svg xmlns=\"http://www.w3.org/2000/svg\" height=\"24px\"viewBox=\"0 0 24 24\"\n",
              "       width=\"24px\">\n",
              "    <path d=\"M0 0h24v24H0V0z\" fill=\"none\"/>\n",
              "    <path d=\"M18.56 5.44l.94 2.06.94-2.06 2.06-.94-2.06-.94-.94-2.06-.94 2.06-2.06.94zm-11 1L8.5 8.5l.94-2.06 2.06-.94-2.06-.94L8.5 2.5l-.94 2.06-2.06.94zm10 10l.94 2.06.94-2.06 2.06-.94-2.06-.94-.94-2.06-.94 2.06-2.06.94z\"/><path d=\"M17.41 7.96l-1.37-1.37c-.4-.4-.92-.59-1.43-.59-.52 0-1.04.2-1.43.59L10.3 9.45l-7.72 7.72c-.78.78-.78 2.05 0 2.83L4 21.41c.39.39.9.59 1.41.59.51 0 1.02-.2 1.41-.59l7.78-7.78 2.81-2.81c.8-.78.8-2.07 0-2.86zM5.41 20L4 18.59l7.72-7.72 1.47 1.35L5.41 20z\"/>\n",
              "  </svg>\n",
              "      </button>\n",
              "      \n",
              "  <style>\n",
              "    .colab-df-container {\n",
              "      display:flex;\n",
              "      flex-wrap:wrap;\n",
              "      gap: 12px;\n",
              "    }\n",
              "\n",
              "    .colab-df-convert {\n",
              "      background-color: #E8F0FE;\n",
              "      border: none;\n",
              "      border-radius: 50%;\n",
              "      cursor: pointer;\n",
              "      display: none;\n",
              "      fill: #1967D2;\n",
              "      height: 32px;\n",
              "      padding: 0 0 0 0;\n",
              "      width: 32px;\n",
              "    }\n",
              "\n",
              "    .colab-df-convert:hover {\n",
              "      background-color: #E2EBFA;\n",
              "      box-shadow: 0px 1px 2px rgba(60, 64, 67, 0.3), 0px 1px 3px 1px rgba(60, 64, 67, 0.15);\n",
              "      fill: #174EA6;\n",
              "    }\n",
              "\n",
              "    [theme=dark] .colab-df-convert {\n",
              "      background-color: #3B4455;\n",
              "      fill: #D2E3FC;\n",
              "    }\n",
              "\n",
              "    [theme=dark] .colab-df-convert:hover {\n",
              "      background-color: #434B5C;\n",
              "      box-shadow: 0px 1px 3px 1px rgba(0, 0, 0, 0.15);\n",
              "      filter: drop-shadow(0px 1px 2px rgba(0, 0, 0, 0.3));\n",
              "      fill: #FFFFFF;\n",
              "    }\n",
              "  </style>\n",
              "\n",
              "      <script>\n",
              "        const buttonEl =\n",
              "          document.querySelector('#df-d3a2c070-3445-4e67-b682-83d7b7bc833d button.colab-df-convert');\n",
              "        buttonEl.style.display =\n",
              "          google.colab.kernel.accessAllowed ? 'block' : 'none';\n",
              "\n",
              "        async function convertToInteractive(key) {\n",
              "          const element = document.querySelector('#df-d3a2c070-3445-4e67-b682-83d7b7bc833d');\n",
              "          const dataTable =\n",
              "            await google.colab.kernel.invokeFunction('convertToInteractive',\n",
              "                                                     [key], {});\n",
              "          if (!dataTable) return;\n",
              "\n",
              "          const docLinkHtml = 'Like what you see? Visit the ' +\n",
              "            '<a target=\"_blank\" href=https://colab.research.google.com/notebooks/data_table.ipynb>data table notebook</a>'\n",
              "            + ' to learn more about interactive tables.';\n",
              "          element.innerHTML = '';\n",
              "          dataTable['output_type'] = 'display_data';\n",
              "          await google.colab.output.renderOutput(dataTable, element);\n",
              "          const docLink = document.createElement('div');\n",
              "          docLink.innerHTML = docLinkHtml;\n",
              "          element.appendChild(docLink);\n",
              "        }\n",
              "      </script>\n",
              "    </div>\n",
              "  </div>\n",
              "  "
            ]
          },
          "metadata": {},
          "execution_count": 67
        }
      ]
    },
    {
      "cell_type": "code",
      "source": [
        "df.shape"
      ],
      "metadata": {
        "colab": {
          "base_uri": "https://localhost:8080/"
        },
        "id": "TFVFLkh_j06C",
        "outputId": "43c17468-1334-4597-a4ef-d66e52c46812"
      },
      "execution_count": 68,
      "outputs": [
        {
          "output_type": "execute_result",
          "data": {
            "text/plain": [
              "(3085, 6)"
            ]
          },
          "metadata": {},
          "execution_count": 68
        }
      ]
    },
    {
      "cell_type": "code",
      "source": [
        "df.isnull().sum()"
      ],
      "metadata": {
        "colab": {
          "base_uri": "https://localhost:8080/"
        },
        "id": "WL7vTgLlj0-Y",
        "outputId": "3654c7e4-73bb-4bd5-911a-e5f0b11a8ba2"
      },
      "execution_count": 69,
      "outputs": [
        {
          "output_type": "execute_result",
          "data": {
            "text/plain": [
              "Open         0\n",
              "High         0\n",
              "Low          0\n",
              "Close        0\n",
              "Adj Close    0\n",
              "Volume       0\n",
              "dtype: int64"
            ]
          },
          "metadata": {},
          "execution_count": 69
        }
      ]
    },
    {
      "cell_type": "code",
      "source": [
        "df.duplicated().sum()"
      ],
      "metadata": {
        "colab": {
          "base_uri": "https://localhost:8080/"
        },
        "id": "RQc3idyGj1Ao",
        "outputId": "c7c97d00-829c-4439-c86b-94bb77b49c82"
      },
      "execution_count": 70,
      "outputs": [
        {
          "output_type": "execute_result",
          "data": {
            "text/plain": [
              "0"
            ]
          },
          "metadata": {},
          "execution_count": 70
        }
      ]
    },
    {
      "cell_type": "code",
      "source": [
        "df.tail()"
      ],
      "metadata": {
        "colab": {
          "base_uri": "https://localhost:8080/",
          "height": 238
        },
        "id": "yaxPmp6Sj1EX",
        "outputId": "8aaa60b5-818e-43c6-a783-7ea49ea72a73"
      },
      "execution_count": 71,
      "outputs": [
        {
          "output_type": "execute_result",
          "data": {
            "text/plain": [
              "                   Open         High          Low        Close    Adj Close  \\\n",
              "Date                                                                          \n",
              "2022-03-29  4602.859863  4637.299805  4589.660156  4631.600098  4631.600098   \n",
              "2022-03-30  4624.200195  4627.770020  4581.319824  4602.450195  4602.450195   \n",
              "2022-03-31  4599.020020  4603.069824  4530.410156  4530.410156  4530.410156   \n",
              "2022-04-01  4540.319824  4548.700195  4507.569824  4545.859863  4545.859863   \n",
              "2022-04-04  4547.970215  4583.500000  4539.209961  4582.640137  4582.640137   \n",
              "\n",
              "                Volume  \n",
              "Date                    \n",
              "2022-03-29  4239660000  \n",
              "2022-03-30  3665390000  \n",
              "2022-03-31  3782040000  \n",
              "2022-04-01  3828290000  \n",
              "2022-04-04  3833500000  "
            ],
            "text/html": [
              "\n",
              "  <div id=\"df-6b9fe162-9eca-489d-9aac-b7853d437007\">\n",
              "    <div class=\"colab-df-container\">\n",
              "      <div>\n",
              "<style scoped>\n",
              "    .dataframe tbody tr th:only-of-type {\n",
              "        vertical-align: middle;\n",
              "    }\n",
              "\n",
              "    .dataframe tbody tr th {\n",
              "        vertical-align: top;\n",
              "    }\n",
              "\n",
              "    .dataframe thead th {\n",
              "        text-align: right;\n",
              "    }\n",
              "</style>\n",
              "<table border=\"1\" class=\"dataframe\">\n",
              "  <thead>\n",
              "    <tr style=\"text-align: right;\">\n",
              "      <th></th>\n",
              "      <th>Open</th>\n",
              "      <th>High</th>\n",
              "      <th>Low</th>\n",
              "      <th>Close</th>\n",
              "      <th>Adj Close</th>\n",
              "      <th>Volume</th>\n",
              "    </tr>\n",
              "    <tr>\n",
              "      <th>Date</th>\n",
              "      <th></th>\n",
              "      <th></th>\n",
              "      <th></th>\n",
              "      <th></th>\n",
              "      <th></th>\n",
              "      <th></th>\n",
              "    </tr>\n",
              "  </thead>\n",
              "  <tbody>\n",
              "    <tr>\n",
              "      <th>2022-03-29</th>\n",
              "      <td>4602.859863</td>\n",
              "      <td>4637.299805</td>\n",
              "      <td>4589.660156</td>\n",
              "      <td>4631.600098</td>\n",
              "      <td>4631.600098</td>\n",
              "      <td>4239660000</td>\n",
              "    </tr>\n",
              "    <tr>\n",
              "      <th>2022-03-30</th>\n",
              "      <td>4624.200195</td>\n",
              "      <td>4627.770020</td>\n",
              "      <td>4581.319824</td>\n",
              "      <td>4602.450195</td>\n",
              "      <td>4602.450195</td>\n",
              "      <td>3665390000</td>\n",
              "    </tr>\n",
              "    <tr>\n",
              "      <th>2022-03-31</th>\n",
              "      <td>4599.020020</td>\n",
              "      <td>4603.069824</td>\n",
              "      <td>4530.410156</td>\n",
              "      <td>4530.410156</td>\n",
              "      <td>4530.410156</td>\n",
              "      <td>3782040000</td>\n",
              "    </tr>\n",
              "    <tr>\n",
              "      <th>2022-04-01</th>\n",
              "      <td>4540.319824</td>\n",
              "      <td>4548.700195</td>\n",
              "      <td>4507.569824</td>\n",
              "      <td>4545.859863</td>\n",
              "      <td>4545.859863</td>\n",
              "      <td>3828290000</td>\n",
              "    </tr>\n",
              "    <tr>\n",
              "      <th>2022-04-04</th>\n",
              "      <td>4547.970215</td>\n",
              "      <td>4583.500000</td>\n",
              "      <td>4539.209961</td>\n",
              "      <td>4582.640137</td>\n",
              "      <td>4582.640137</td>\n",
              "      <td>3833500000</td>\n",
              "    </tr>\n",
              "  </tbody>\n",
              "</table>\n",
              "</div>\n",
              "      <button class=\"colab-df-convert\" onclick=\"convertToInteractive('df-6b9fe162-9eca-489d-9aac-b7853d437007')\"\n",
              "              title=\"Convert this dataframe to an interactive table.\"\n",
              "              style=\"display:none;\">\n",
              "        \n",
              "  <svg xmlns=\"http://www.w3.org/2000/svg\" height=\"24px\"viewBox=\"0 0 24 24\"\n",
              "       width=\"24px\">\n",
              "    <path d=\"M0 0h24v24H0V0z\" fill=\"none\"/>\n",
              "    <path d=\"M18.56 5.44l.94 2.06.94-2.06 2.06-.94-2.06-.94-.94-2.06-.94 2.06-2.06.94zm-11 1L8.5 8.5l.94-2.06 2.06-.94-2.06-.94L8.5 2.5l-.94 2.06-2.06.94zm10 10l.94 2.06.94-2.06 2.06-.94-2.06-.94-.94-2.06-.94 2.06-2.06.94z\"/><path d=\"M17.41 7.96l-1.37-1.37c-.4-.4-.92-.59-1.43-.59-.52 0-1.04.2-1.43.59L10.3 9.45l-7.72 7.72c-.78.78-.78 2.05 0 2.83L4 21.41c.39.39.9.59 1.41.59.51 0 1.02-.2 1.41-.59l7.78-7.78 2.81-2.81c.8-.78.8-2.07 0-2.86zM5.41 20L4 18.59l7.72-7.72 1.47 1.35L5.41 20z\"/>\n",
              "  </svg>\n",
              "      </button>\n",
              "      \n",
              "  <style>\n",
              "    .colab-df-container {\n",
              "      display:flex;\n",
              "      flex-wrap:wrap;\n",
              "      gap: 12px;\n",
              "    }\n",
              "\n",
              "    .colab-df-convert {\n",
              "      background-color: #E8F0FE;\n",
              "      border: none;\n",
              "      border-radius: 50%;\n",
              "      cursor: pointer;\n",
              "      display: none;\n",
              "      fill: #1967D2;\n",
              "      height: 32px;\n",
              "      padding: 0 0 0 0;\n",
              "      width: 32px;\n",
              "    }\n",
              "\n",
              "    .colab-df-convert:hover {\n",
              "      background-color: #E2EBFA;\n",
              "      box-shadow: 0px 1px 2px rgba(60, 64, 67, 0.3), 0px 1px 3px 1px rgba(60, 64, 67, 0.15);\n",
              "      fill: #174EA6;\n",
              "    }\n",
              "\n",
              "    [theme=dark] .colab-df-convert {\n",
              "      background-color: #3B4455;\n",
              "      fill: #D2E3FC;\n",
              "    }\n",
              "\n",
              "    [theme=dark] .colab-df-convert:hover {\n",
              "      background-color: #434B5C;\n",
              "      box-shadow: 0px 1px 3px 1px rgba(0, 0, 0, 0.15);\n",
              "      filter: drop-shadow(0px 1px 2px rgba(0, 0, 0, 0.3));\n",
              "      fill: #FFFFFF;\n",
              "    }\n",
              "  </style>\n",
              "\n",
              "      <script>\n",
              "        const buttonEl =\n",
              "          document.querySelector('#df-6b9fe162-9eca-489d-9aac-b7853d437007 button.colab-df-convert');\n",
              "        buttonEl.style.display =\n",
              "          google.colab.kernel.accessAllowed ? 'block' : 'none';\n",
              "\n",
              "        async function convertToInteractive(key) {\n",
              "          const element = document.querySelector('#df-6b9fe162-9eca-489d-9aac-b7853d437007');\n",
              "          const dataTable =\n",
              "            await google.colab.kernel.invokeFunction('convertToInteractive',\n",
              "                                                     [key], {});\n",
              "          if (!dataTable) return;\n",
              "\n",
              "          const docLinkHtml = 'Like what you see? Visit the ' +\n",
              "            '<a target=\"_blank\" href=https://colab.research.google.com/notebooks/data_table.ipynb>data table notebook</a>'\n",
              "            + ' to learn more about interactive tables.';\n",
              "          element.innerHTML = '';\n",
              "          dataTable['output_type'] = 'display_data';\n",
              "          await google.colab.output.renderOutput(dataTable, element);\n",
              "          const docLink = document.createElement('div');\n",
              "          docLink.innerHTML = docLinkHtml;\n",
              "          element.appendChild(docLink);\n",
              "        }\n",
              "      </script>\n",
              "    </div>\n",
              "  </div>\n",
              "  "
            ]
          },
          "metadata": {},
          "execution_count": 71
        }
      ]
    },
    {
      "cell_type": "code",
      "source": [
        "fig, ax = plt.subplots(2,3,figsize=(20, 7))\n",
        "fig.suptitle(stockname + ' from '+ date_start + ' to ' + date_today,fontsize=30)\n",
        "\n",
        "plt.subplots_adjust(left=None, bottom=None, right=None, top=None, wspace=0.5, hspace=0.5)\n",
        "ax[0,0].plot(df['Open'], color='#039dfc', label=stockname, linewidth=1.0)\n",
        "ax[0,0].set_ylabel('Open', fontsize=10)\n",
        "\n",
        "ax[0,1].plot(df['High'], color='#039dfc', label=stockname, linewidth=1.0)\n",
        "ax[0,1].set_ylabel('High', fontsize=10)\n",
        "\n",
        "ax[0,2].plot(df['Low'], color='#039dfc', label=stockname, linewidth=1.0)\n",
        "ax[0,2].set_ylabel('Low', fontsize=10)\n",
        "\n",
        "ax[1,0].plot(df['Close'], color='#039dfc', label=stockname, linewidth=1.0)\n",
        "ax[1,0].set_ylabel('Close', fontsize=10)\n",
        "\n",
        "ax[1,1].plot(df['Adj Close'], color='#039dfc', label=stockname, linewidth=1.0)\n",
        "ax[1,1].set_ylabel('Adj Close', fontsize=10)\n",
        "\n",
        "ax[1,2].plot(df['Volume'], color='#039dfc', label=stockname, linewidth=1.0)\n",
        "ax[1,2].set_ylabel('Volume', fontsize=10)"
      ],
      "metadata": {
        "colab": {
          "base_uri": "https://localhost:8080/",
          "height": 496
        },
        "id": "f8IgnItej1Gz",
        "outputId": "985b1011-1cbf-479e-c3fa-51dab5cee528"
      },
      "execution_count": 72,
      "outputs": [
        {
          "output_type": "execute_result",
          "data": {
            "text/plain": [
              "Text(0, 0.5, 'Volume')"
            ]
          },
          "metadata": {},
          "execution_count": 72
        },
        {
          "output_type": "display_data",
          "data": {
            "text/plain": [
              "<Figure size 1440x504 with 6 Axes>"
            ],
            "image/png": "[encoded data removed]"
          },
          "metadata": {
            "needs_background": "light"
          }
        }
      ]
    },
    {
      "cell_type": "markdown",
      "source": [
        "Split dataset"
      ],
      "metadata": {
        "id": "GwuKsQEzBKw2"
      }
    },
    {
      "cell_type": "code",
      "source": [
        "# Feature Selection - Only Close Data\n",
        "train_df = df.filter(['Close'])\n",
        "data_unscaled = train_df.values"
      ],
      "metadata": {
        "id": "5pwuWSNij1OM"
      },
      "execution_count": 73,
      "outputs": []
    },
    {
      "cell_type": "code",
      "source": [
        "data_unscaled"
      ],
      "metadata": {
        "colab": {
          "base_uri": "https://localhost:8080/"
        },
        "id": "0cXtwLMSj1QI",
        "outputId": "b2895891-d602-4e34-8a42-7923459a28dc"
      },
      "execution_count": 74,
      "outputs": [
        {
          "output_type": "execute_result",
          "data": {
            "text/plain": [
              "array([[1132.98999023],\n",
              "       [1136.52001953],\n",
              "       [1137.14001465],\n",
              "       ...,\n",
              "       [4530.41015625],\n",
              "       [4545.85986328],\n",
              "       [4582.64013672]])"
            ]
          },
          "metadata": {},
          "execution_count": 74
        }
      ]
    },
    {
      "cell_type": "code",
      "source": [
        "index_Close = train_df.columns.get_loc(\"Close\")\n",
        "# Transform features by scaling each feature to a range between 0 and 1\n",
        "mmscaler = MinMaxScaler(feature_range=(0, 1))\n",
        "np_data = mmscaler.fit_transform(data_unscaled)"
      ],
      "metadata": {
        "id": "JFbyT0sIj1W3"
      },
      "execution_count": 75,
      "outputs": []
    },
    {
      "cell_type": "code",
      "source": [
        "sequence_length = 50\n",
        "train_data_len = math.ceil(np_data.shape[0] * 0.8)"
      ],
      "metadata": {
        "id": "erO19V6Cj1a1"
      },
      "execution_count": 76,
      "outputs": []
    },
    {
      "cell_type": "code",
      "source": [
        "train_data = np_data[0:train_data_len, :]\n"
      ],
      "metadata": {
        "id": "hCVeHRNzj1dU"
      },
      "execution_count": 77,
      "outputs": []
    },
    {
      "cell_type": "code",
      "source": [
        "test_data = np_data[train_data_len:, :]"
      ],
      "metadata": {
        "id": "kZ7OWsWij1hV"
      },
      "execution_count": 78,
      "outputs": []
    },
    {
      "cell_type": "code",
      "source": [
        "train_data.shape"
      ],
      "metadata": {
        "colab": {
          "base_uri": "https://localhost:8080/"
        },
        "id": "-pcjxZbgj1qP",
        "outputId": "d82b42f4-86cb-454f-b147-ac43fd428df4"
      },
      "execution_count": 79,
      "outputs": [
        {
          "output_type": "execute_result",
          "data": {
            "text/plain": [
              "(2468, 1)"
            ]
          },
          "metadata": {},
          "execution_count": 79
        }
      ]
    },
    {
      "cell_type": "code",
      "source": [
        "test_data.shape"
      ],
      "metadata": {
        "colab": {
          "base_uri": "https://localhost:8080/"
        },
        "id": "TSfZmaV0j1jT",
        "outputId": "d4c19921-f502-4633-8ede-4e7da653f06b"
      },
      "execution_count": 80,
      "outputs": [
        {
          "output_type": "execute_result",
          "data": {
            "text/plain": [
              "(617, 1)"
            ]
          },
          "metadata": {},
          "execution_count": 80
        }
      ]
    },
    {
      "cell_type": "code",
      "source": [
        "def partition_dataset(sequence_length, train_df):\n",
        "    x, y = [], []\n",
        "    data_len = train_df.shape[0]\n",
        "    for i in range(sequence_length, data_len):\n",
        "        x.append(train_df[i-sequence_length:i,:]) #contains sequence_length values 0-sequence_length * columsn\n",
        "        y.append(train_df[i, index_Close]) #contains the prediction values for validation (3rd column = Close),  for single-step prediction\n",
        "    \n",
        "    # Convert the x and y to numpy arrays\n",
        "    x = np.array(x)\n",
        "    y = np.array(y)\n",
        "    return x, y\n",
        "\n",
        "# Generate training data and test data\n",
        "x_train, y_train = partition_dataset(sequence_length, train_data)\n",
        "x_test, y_test = partition_dataset(sequence_length, test_data)"
      ],
      "metadata": {
        "id": "ZsldOWQVA6Lb"
      },
      "execution_count": 81,
      "outputs": []
    },
    {
      "cell_type": "code",
      "source": [
        "x_train.shape"
      ],
      "metadata": {
        "colab": {
          "base_uri": "https://localhost:8080/"
        },
        "id": "DtEttRgREDEy",
        "outputId": "6476cb9a-7c5e-4c6b-8056-6ad29b606478"
      },
      "execution_count": 82,
      "outputs": [
        {
          "output_type": "execute_result",
          "data": {
            "text/plain": [
              "(2418, 50, 1)"
            ]
          },
          "metadata": {},
          "execution_count": 82
        }
      ]
    },
    {
      "cell_type": "code",
      "source": [
        "x_test.shape"
      ],
      "metadata": {
        "colab": {
          "base_uri": "https://localhost:8080/"
        },
        "id": "53t5Rtzjsp2h",
        "outputId": "9588d213-13b9-404b-a57e-8592098bcc97"
      },
      "execution_count": 83,
      "outputs": [
        {
          "output_type": "execute_result",
          "data": {
            "text/plain": [
              "(567, 50, 1)"
            ]
          },
          "metadata": {},
          "execution_count": 83
        }
      ]
    },
    {
      "cell_type": "code",
      "source": [
        "print(x_test[1][sequence_length-1][index_Close])\n",
        "print(y_test[0])"
      ],
      "metadata": {
        "colab": {
          "base_uri": "https://localhost:8080/"
        },
        "id": "RM2J_Bl3sp6I",
        "outputId": "5ccf119c-1523-46ca-875e-d2d59d2cd326"
      },
      "execution_count": 84,
      "outputs": [
        {
          "output_type": "stream",
          "name": "stdout",
          "text": [
            "0.5892188055453789\n",
            "0.5892188055453789\n"
          ]
        }
      ]
    },
    {
      "cell_type": "markdown",
      "source": [
        "Design the Model Architecture"
      ],
      "metadata": {
        "id": "hAgaS0bQvQ5T"
      }
    },
    {
      "cell_type": "code",
      "source": [
        "model = Sequential()\n",
        "\n",
        "neurons = sequence_length\n",
        "\n",
        "# Model with sequence_length Neurons \n",
        "# inputshape = sequence_length Timestamps\n",
        "model.add(LSTM(neurons, return_sequences=True, input_shape=(x_train.shape[1], 1))) \n",
        "model.add(LSTM(neurons, return_sequences=False))\n",
        "model.add(Dense(25, activation='relu'))\n",
        "model.add(Dense(1))\n",
        "\n",
        "# Compile the model\n",
        "model.compile(optimizer='adam', loss='mean_squared_error')"
      ],
      "metadata": {
        "id": "TOutzfa0sqHR"
      },
      "execution_count": 85,
      "outputs": []
    },
    {
      "cell_type": "code",
      "source": [
        "model.fit(x_train, y_train, batch_size=16, epochs=25)"
      ],
      "metadata": {
        "colab": {
          "base_uri": "https://localhost:8080/"
        },
        "id": "UR4eB7e9EDIV",
        "outputId": "6b0a28be-a607-4fdd-fecc-c33f052836ca"
      },
      "execution_count": 86,
      "outputs": [
        {
          "output_type": "stream",
          "name": "stdout",
          "text": [
            "Epoch 1/25\n",
            "152/152 [==============================] - 7s 23ms/step - loss: 0.0021\n",
            "Epoch 2/25\n",
            "152/152 [==============================] - 4s 23ms/step - loss: 1.2111e-04\n",
            "Epoch 3/25\n",
            "152/152 [==============================] - 4s 23ms/step - loss: 1.1210e-04\n",
            "Epoch 4/25\n",
            "152/152 [==============================] - 4s 23ms/step - loss: 1.0801e-04\n",
            "Epoch 5/25\n",
            "152/152 [==============================] - 3s 23ms/step - loss: 1.0610e-04\n",
            "Epoch 6/25\n",
            "152/152 [==============================] - 4s 23ms/step - loss: 1.0274e-04\n",
            "Epoch 7/25\n",
            "152/152 [==============================] - 4s 23ms/step - loss: 1.0392e-04\n",
            "Epoch 8/25\n",
            "152/152 [==============================] - 4s 23ms/step - loss: 1.2665e-04\n",
            "Epoch 9/25\n",
            "152/152 [==============================] - 4s 23ms/step - loss: 9.1139e-05\n",
            "Epoch 10/25\n",
            "152/152 [==============================] - 4s 23ms/step - loss: 8.3467e-05\n",
            "Epoch 11/25\n",
            "152/152 [==============================] - 4s 23ms/step - loss: 7.3831e-05\n",
            "Epoch 12/25\n",
            "152/152 [==============================] - 4s 23ms/step - loss: 1.0090e-04\n",
            "Epoch 13/25\n",
            "152/152 [==============================] - 4s 23ms/step - loss: 8.6804e-05\n",
            "Epoch 14/25\n",
            "152/152 [==============================] - 4s 23ms/step - loss: 7.3596e-05\n",
            "Epoch 15/25\n",
            "152/152 [==============================] - 4s 23ms/step - loss: 7.9984e-05\n",
            "Epoch 16/25\n",
            "152/152 [==============================] - 4s 23ms/step - loss: 8.6859e-05\n",
            "Epoch 17/25\n",
            "152/152 [==============================] - 3s 23ms/step - loss: 6.1909e-05\n",
            "Epoch 18/25\n",
            "152/152 [==============================] - 4s 23ms/step - loss: 6.8456e-05\n",
            "Epoch 19/25\n",
            "152/152 [==============================] - 4s 23ms/step - loss: 5.6599e-05\n",
            "Epoch 20/25\n",
            "152/152 [==============================] - 4s 23ms/step - loss: 5.2633e-05\n",
            "Epoch 21/25\n",
            "152/152 [==============================] - 4s 23ms/step - loss: 5.8581e-05\n",
            "Epoch 22/25\n",
            "152/152 [==============================] - 4s 23ms/step - loss: 6.0288e-05\n",
            "Epoch 23/25\n",
            "152/152 [==============================] - 4s 23ms/step - loss: 4.6583e-05\n",
            "Epoch 24/25\n",
            "152/152 [==============================] - 3s 23ms/step - loss: 4.2170e-05\n",
            "Epoch 25/25\n",
            "152/152 [==============================] - 4s 23ms/step - loss: 5.3167e-05\n"
          ]
        },
        {
          "output_type": "execute_result",
          "data": {
            "text/plain": [
              "<keras.callbacks.History at 0x7fa937796910>"
            ]
          },
          "metadata": {},
          "execution_count": 86
        }
      ]
    },
    {
      "cell_type": "code",
      "source": [
        "y_pred_scaled = model.predict(x_test)\n",
        "y_pred = mmscaler.inverse_transform(y_pred_scaled)\n",
        "y_test_unscaled = mmscaler.inverse_transform(y_test.reshape(-1, 1))"
      ],
      "metadata": {
        "id": "Vodl1kGuEDKE"
      },
      "execution_count": 88,
      "outputs": []
    },
    {
      "cell_type": "code",
      "source": [
        "from sklearn.metrics import r2_score\n",
        "# Mean Absolute Error (MAE)\n",
        "MAE = mean_absolute_error(y_test_unscaled, y_pred)\n",
        "print(f'Median Absolute Error (MAE): {np.round(MAE, 2)}')\n",
        "\n",
        "# Mean Absolute Percentage Error (MAPE)\n",
        "MAPE = np.mean((np.abs(np.subtract(y_test_unscaled, y_pred)/ y_test_unscaled))) * 100\n",
        "print(f'Mean Absolute Percentage Error (MAPE): {np.round(MAPE, 2)} %')\n",
        "\n",
        "# Median Absolute Percentage Error (MDAPE)\n",
        "MDAPE = np.median((np.abs(np.subtract(y_test_unscaled, y_pred)/ y_test_unscaled)) ) * 100\n",
        "print(f'Median Absolute Percentage Error (MDAPE): {np.round(MDAPE, 2)} %')\n",
        "\n",
        "print('R2: ',r2_score(y_test_unscaled,y_pred))"
      ],
      "metadata": {
        "colab": {
          "base_uri": "https://localhost:8080/"
        },
        "id": "loELwuiLCz4Z",
        "outputId": "221cd631-b433-46fb-d685-e0e9322e129c"
      },
      "execution_count": 89,
      "outputs": [
        {
          "output_type": "stream",
          "name": "stdout",
          "text": [
            "Median Absolute Error (MAE): 42.49\n",
            "Mean Absolute Percentage Error (MAPE): 1.21 %\n",
            "Median Absolute Percentage Error (MDAPE): 0.8 %\n",
            "R2:  0.990244193971008\n"
          ]
        }
      ]
    },
    {
      "cell_type": "code",
      "source": [
        "# The date from which on the date is displayed\n",
        "display_start_date = \"2018-01-01\" \n",
        "\n",
        "# Add the difference between the valid and predicted prices\n",
        "train = train_df[:train_data_len+sequence_length]\n",
        "valid = train_df[train_data_len+sequence_length:]\n",
        "valid.insert(1, \"Predictions\", y_pred, True)\n",
        "valid.insert(1, \"Difference\", valid[\"Predictions\"] - valid[\"Close\"], True)\n",
        "\n",
        "# Zoom in to a closer timeframe\n",
        "valid = valid[valid.index > display_start_date]\n",
        "train = train[train.index > display_start_date]\n",
        "\n",
        "# Visualize the data\n",
        "fig, ax = plt.subplots(figsize=(16, 8), sharex=True)\n",
        "\n",
        "plt.title(\"Predictions vs Ground Truth\", fontsize=20)\n",
        "plt.ylabel(stockname, fontsize=18)\n",
        "plt.plot(train[\"Close\"], color=\"#039dfc\", linewidth=1.0)\n",
        "plt.plot(valid[\"Predictions\"], color=\"#E91D9E\", linewidth=1.0)\n",
        "plt.plot(valid[\"Close\"], color=\"black\", linewidth=1.0)\n",
        "plt.legend([\"Train\", \"Test Predictions\", \"Ground Truth\"], loc=\"upper left\")\n",
        "\n",
        "\n",
        "# Create the bar plot with the differences\n",
        "valid.loc[valid[\"Difference\"] >= 0, 'diff_color'] = \"#2BC97A\"\n",
        "valid.loc[valid[\"Difference\"] < 0, 'diff_color'] = \"#C92B2B\"\n",
        "plt.bar(valid.index, valid[\"Difference\"], width=0.8, color=valid['diff_color'])\n",
        "\n",
        "plt.show()"
      ],
      "metadata": {
        "colab": {
          "base_uri": "https://localhost:8080/",
          "height": 504
        },
        "id": "hUlCVAT1C0cl",
        "outputId": "525a9738-9615-496b-864b-1896e0acf0b0"
      },
      "execution_count": 105,
      "outputs": [
        {
          "output_type": "display_data",
          "data": {
            "text/plain": [
              "<Figure size 1152x576 with 1 Axes>"
            ],
            "image/png": "[encoded data removed]"
          },
          "metadata": {
            "needs_background": "light"
          }
        }
      ]
    },
    {
      "cell_type": "markdown",
      "source": [
        " ref: https://github.com/flo7up/relataly-public-python-tutorials/blob/master/003%20Time%20Series%20Forecasting%20-%20Univariate%20Model%20using%20Recurrent%20Neural%20Networks.ipynb"
      ],
      "metadata": {
        "id": "cPUS2N8rIiFl"
      }
    },
    {
      "cell_type": "code",
      "source": [
        "len(train_df[train_data_len:])"
      ],
      "metadata": {
        "colab": {
          "base_uri": "https://localhost:8080/"
        },
        "id": "WtKIhAfBIuHQ",
        "outputId": "8b1c923c-697f-4d3f-988b-d8113e70d74b"
      },
      "execution_count": 98,
      "outputs": [
        {
          "output_type": "execute_result",
          "data": {
            "text/plain": [
              "617"
            ]
          },
          "metadata": {},
          "execution_count": 98
        }
      ]
    },
    {
      "cell_type": "code",
      "source": [
        "567+50"
      ],
      "metadata": {
        "colab": {
          "base_uri": "https://localhost:8080/"
        },
        "id": "1qJvI6A3KjN5",
        "outputId": "59cdcedb-8967-4107-9011-ef3955617dd0"
      },
      "execution_count": 99,
      "outputs": [
        {
          "output_type": "execute_result",
          "data": {
            "text/plain": [
              "617"
            ]
          },
          "metadata": {},
          "execution_count": 99
        }
      ]
    },
    {
      "cell_type": "code",
      "source": [
        ""
      ],
      "metadata": {
        "id": "2x9eQD2mKrIf"
      },
      "execution_count": null,
      "outputs": []
    }
  ]
}